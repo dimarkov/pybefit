{
 "cells": [
  {
   "cell_type": "code",
   "execution_count": 1,
   "metadata": {},
   "outputs": [
    {
     "data": {
      "text/html": [
       "\n",
       "                <script type=\"application/javascript\" id=\"jupyter_black\">\n",
       "                (function() {\n",
       "                    if (window.IPython === undefined) {\n",
       "                        return\n",
       "                    }\n",
       "                    var msg = \"WARNING: it looks like you might have loaded \" +\n",
       "                        \"jupyter_black in a non-lab notebook with \" +\n",
       "                        \"`is_lab=True`. Please double check, and if \" +\n",
       "                        \"loading with `%load_ext` please review the README!\"\n",
       "                    console.log(msg)\n",
       "                    alert(msg)\n",
       "                })()\n",
       "                </script>\n",
       "                "
      ],
      "text/plain": [
       "<IPython.core.display.HTML object>"
      ]
     },
     "metadata": {},
     "output_type": "display_data"
    }
   ],
   "source": [
    "%load_ext jupyter_black\n",
    "%matplotlib inline"
   ]
  },
  {
   "cell_type": "code",
   "execution_count": 2,
   "metadata": {},
   "outputs": [
    {
     "name": "stderr",
     "output_type": "stream",
     "text": [
      "/Users/riddhi/Library/CloudStorage/OneDrive-Nexus365/Oxford/Research Projects/Ox_AgencyParadox/1_Data&Analysis/pybefit/.venv/lib/python3.11/site-packages/tqdm/auto.py:21: TqdmWarning: IProgress not found. Please update jupyter and ipywidgets. See https://ipywidgets.readthedocs.io/en/stable/user_install.html\n",
      "  from .autonotebook import tqdm as notebook_tqdm\n"
     ]
    }
   ],
   "source": [
    "import numpyro\n",
    "\n",
    "numpyro.set_platform(\"cpu\")  # cpu if using mac\n",
    "# numpyro.set_platform(\"gpu\")"
   ]
  },
  {
   "cell_type": "code",
   "execution_count": 3,
   "metadata": {},
   "outputs": [
    {
     "name": "stderr",
     "output_type": "stream",
     "text": [
      "WARNING:jax._src.xla_bridge:Platform 'METAL' is experimental and not all JAX functionality may be correctly supported!\n"
     ]
    },
    {
     "name": "stdout",
     "output_type": "stream",
     "text": [
      "Metal device set to: Apple M1 Max\n",
      "\n",
      "systemMemory: 64.00 GB\n",
      "maxCacheSize: 24.00 GB\n",
      "\n"
     ]
    },
    {
     "name": "stderr",
     "output_type": "stream",
     "text": [
      "2024-04-27 16:07:05.745626: W pjrt_plugin/src/mps_client.cc:563] WARNING: JAX Apple GPU support is experimental and not all JAX functionality is correctly supported!\n"
     ]
    }
   ],
   "source": [
    "from typing import Dict, List, Optional\n",
    "from jaxtyping import Array, PRNGKeyArray\n",
    "from functools import partial\n",
    "\n",
    "import matplotlib.pyplot as plt\n",
    "import seaborn as sns\n",
    "import arviz as az\n",
    "import equinox as eqx\n",
    "\n",
    "import jax.random as jr\n",
    "import jax.numpy as jnp\n",
    "import jax.tree_util as jtu\n",
    "\n",
    "from jax import nn, lax, vmap\n",
    "\n",
    "from pymdp.jax.agent import Agent as AIFAgent\n",
    "\n",
    "from pybefit.inference import (\n",
    "    run_nuts,\n",
    "    run_svi,\n",
    "    default_dict_nuts,\n",
    "    default_dict_numpyro_svi,\n",
    ")\n",
    "\n",
    "from pybefit.inference import NumpyroModel, NumpyroGuide\n",
    "from pybefit.inference import Normal, NormalPosterior\n",
    "from pybefit.inference.numpyro.likelihoods import pymdp_likelihood as likelihood\n",
    "\n",
    "from numpyro.infer.autoguide import AutoNormal, AutoMultivariateNormal\n",
    "from numpyro.infer import Predictive\n",
    "\n",
    "from pymdp.jax.task import PyMDPEnv\n",
    "from pymdp.utils import random_A_matrix, random_B_matrix\n",
    "from equinox import Module, field\n",
    "\n",
    "seed_key = jr.PRNGKey(101)"
   ]
  },
  {
   "cell_type": "markdown",
   "metadata": {},
   "source": [
    "# Two-agent agency task:\n",
    "This script conducts model fitting using an active inference simulation of the two-agent (participant + simulated participant) agency task. Behavioural data was collected by Riddhi J. Pitliya and her colleagues. <br> \n",
    "\n",
    "The task involves two participants, one real (the focal participant whose point of view we are \n",
    "creating the active inference model), and a fake participant (simulated in the computer \n",
    "program).  <br>\n",
    "\n",
    "The focal participant sees two buttons on the screen, and it has control over one button. They \n",
    "are told that there is another participant, which has control over the other button, but they do \n",
    "not know that the other participant just randomly produces an action (i.e., pressing the button \n",
    "50% of the time, across all trials and blocks). The focal participant can freely produce or not \n",
    "produce actions and an outcome would be present or absent according to the experimental \n",
    "condition.  <br> \n",
    "\n",
    "Over a series of trials (25 trials), the focal participant is to learn how much control \n",
    "they, and the other agent, have over producing the outcome (outcome_present). They are \n",
    "instructed to produce the outcome as much as possible.  <br> \n",
    "\n",
    "At the end of the series of trials (25 trials), participants are asked two questions: (1) How \n",
    "much control did you have?, and (2) How much control did the simulated participant have?. \n",
    "Participants respond on a rating scale from -10 to +10, where negative values mean inverse \n",
    "control (action_present --> outcome_absent; and action_absent --> outcome_present), and \n",
    "positive values mean excitatory control (action_present --> outcome_present; and \n",
    "action_absent --> outcome_absent).  <br>\n",
    "\n",
    "Participants can be in one of five experimental conditions at one time. They complete all five \n",
    "experimental conditions, in a random order. The experimental conditions are: \"s_zer_o_neg\", \n",
    "\"s_neg_o_zer\", \"s_zer_o_zer\", \"s_pos_o_zer\", \"s_zer_o_pos\". All conditions are \n",
    "deterministic, so, \"s_zer_o_neg\" indicates that the Self (or focal participant) has 100% Zero \n",
    "control, and the Other (simulated participant) has 100% Negative control. <br>\n",
    "\n",
    "In the active inference simulation, the focal agent is inferring the following states: ['selfPositive_otherPositive', 'selfPositive_otherNegative', 'selfNegative_otherPositive', 'selfNegative_otherNegative']. The agent is then to report a rating for the self and other by: \n",
    "* self_rating = ('selfPositive_otherPositive' + 'selfPositive_otherNegative') - ('selfNegative_otherPositive' + 'selfNegative_otherNegative') <br>\n",
    "* other_rating = ('selfPositive_otherPositive' + 'selfNegative_otherPositive') - ('selfPositive_otherNegative' + 'selfNegative_otherNegative')\n",
    "\n",
    "\n"
   ]
  },
  {
   "cell_type": "markdown",
   "metadata": {},
   "source": [
    "# Defining the States and Observations for this task"
   ]
  },
  {
   "cell_type": "code",
   "execution_count": 4,
   "metadata": {},
   "outputs": [],
   "source": [
    "\"\"\" Defining state factors \"\"\"\n",
    "\n",
    "agency_names = [\n",
    "    \"selfPositive_otherPositive\",\n",
    "    \"selfPositive_otherNegative\",\n",
    "    \"selfNegative_otherPositive\",\n",
    "    \"selfNegative_otherNegative\",\n",
    "]\n",
    "self_action_names = [\"self_buttonpress\", \"self_buttonnotpress\"]\n",
    "other_action_names = [\"other_buttonpress\", \"other_buttonnotpress\"]\n",
    "\n",
    "\"\"\" Defining number of state factors and states \"\"\"\n",
    "num_states = [len(agency_names), len(self_action_names), len(other_action_names)]\n",
    "num_factors = len(num_states)\n",
    "\n",
    "\"\"\" Defining control state factors \"\"\"\n",
    "choice_agency_names = [\"no_changes\"]\n",
    "choice_self_action_names = [\"self_pressbutton\", \"self_notpressbutton\"]\n",
    "choice_other_action_names = [\"equal_distribution\"]\n",
    "\n",
    "\"\"\" Defining number of control states \"\"\"\n",
    "num_controls = [\n",
    "    len(choice_agency_names),\n",
    "    len(choice_self_action_names),\n",
    "    len(choice_other_action_names),\n",
    "]\n",
    "\n",
    "\"\"\" Defining observational modalities \"\"\"\n",
    "obs_outcome_names = [\"outcome_present\", \"outcome_absent\"]\n",
    "obs_choice_self_names = [\"self_buttonpress\", \"self_buttonnotpress\"]\n",
    "obs_choice_other_names = [\"other_buttonpress\", \"other_buttonnotpress\"]\n",
    "\n",
    "\"\"\" Defining number of observational modalities and observations \"\"\"\n",
    "num_obs = [\n",
    "    len(obs_outcome_names),\n",
    "    len(obs_choice_self_names),\n",
    "    len(obs_choice_other_names),\n",
    "]\n",
    "num_modalities = len(num_obs)"
   ]
  },
  {
   "cell_type": "markdown",
   "metadata": {},
   "source": [
    "# Defining the Generative Process"
   ]
  },
  {
   "cell_type": "code",
   "execution_count": 5,
   "metadata": {},
   "outputs": [],
   "source": [
    "\"\"\" Defining experimental structure \"\"\"\n",
    "\n",
    "batch_size = 80  # number of subjects\n",
    "num_blocks = 15  # number of block of trials, one per condition; there are 5 conditions that are repeated three times\n",
    "num_timesteps = 25  # number of timesteps/trials in each block\n",
    "num_exp_conditions = 5  # number of experimental conditions\n",
    "\n",
    "\"\"\" Defining the generative process \"\"\"\n",
    "\n",
    "\n",
    "def make_agency_task(p_outcome_env=1.0, p_other_action_env=0.5):\n",
    "    a1 = jnp.array([p_outcome_env, 1 - p_outcome_env])  # [1.0, 0.0]\n",
    "    a2 = 1 - a1  # [0.0, 1.0]\n",
    "    a3 = jnp.array([0.5, 0.5])\n",
    "    A1 = jnp.stack(\n",
    "        [a1, a2, a1, a2, a3], -1\n",
    "    )  # setting up the A tensor for self_press, other_press\n",
    "    A2 = jnp.stack(\n",
    "        [a1, a2, a2, a1, a3], -1\n",
    "    )  # setting up the A tensor for self_press, other_notpress\n",
    "    A3 = jnp.stack(\n",
    "        [a2, a1, a1, a2, a3], -1\n",
    "    )  # setting up the A tensor for self_notpress, other_press\n",
    "    A4 = jnp.stack(\n",
    "        [a2, a1, a2, a1, a3], -1\n",
    "    )  # setting up the A tensor for self_notpress, other_notpress\n",
    "    _A = jnp.stack([A1, A2, A3, A4], -1).reshape(2, 5, 2, 2)\n",
    "\n",
    "    a = jnp.eye(2)\n",
    "    A = [\n",
    "        jnp.broadcast_to(\n",
    "            _A, (batch_size,) + _A.shape\n",
    "        ),  # the first A tensor (for outcome) is defined above\n",
    "        jnp.broadcast_to(\n",
    "            a, (batch_size,) + a.shape\n",
    "        ),  # the second A tensor (for self_action) is an identity matrix\n",
    "        jnp.broadcast_to(\n",
    "            a, (batch_size,) + a.shape\n",
    "        ),  # the third A tensor (for other_action) is an identity matrix\n",
    "    ]\n",
    "\n",
    "    B2 = jnp.stack([jnp.array([[1, 1], [0, 0]]), jnp.array([[0, 0], [1, 1]])], -1)\n",
    "    B = [\n",
    "        jnp.broadcast_to(\n",
    "            jnp.eye(num_exp_conditions)[..., None],\n",
    "            (batch_size, num_exp_conditions, num_exp_conditions, 1),\n",
    "        ),\n",
    "        jnp.broadcast_to(B2, (batch_size, 2, 2, 2)),\n",
    "        jnp.broadcast_to(\n",
    "            jnp.ones((num_states[-1], num_states[-1], 1)) / num_states[-1],\n",
    "            (batch_size, num_states[-1], num_states[-1], 1),\n",
    "        ),\n",
    "    ]\n",
    "\n",
    "    D = [\n",
    "        jnp.ones((batch_size, 5)) / 5,\n",
    "        jnp.ones((batch_size, num_states[1])) / num_states[1],\n",
    "        jnp.ones((batch_size, num_states[2])) / num_states[2],\n",
    "    ]\n",
    "\n",
    "    dependencies = {\"A\": [[0, 1, 2], [1], [2]], \"B\": [[0], [1], [2]]}\n",
    "\n",
    "    params = {\"A\": A, \"B\": B, \"D\": D}\n",
    "\n",
    "    return PyMDPEnv(params, dependencies=dependencies)\n",
    "\n",
    "\n",
    "agency_task = make_agency_task()\n",
    "key, _key = jr.split(seed_key)\n",
    "agency_task = agency_task.reset(_key)"
   ]
  },
  {
   "cell_type": "code",
   "execution_count": 6,
   "metadata": {},
   "outputs": [
    {
     "name": "stdout",
     "output_type": "stream",
     "text": [
      "3\n",
      "(80, 2, 5, 2, 2)\n",
      "(80, 2, 2)\n",
      "(80, 2, 2)\n"
     ]
    },
    {
     "data": {
      "text/plain": [
       "Array([[1. , 0. , 1. , 0. , 0.5],\n",
       "       [0. , 1. , 0. , 1. , 0.5]], dtype=float32)"
      ]
     },
     "execution_count": 6,
     "metadata": {},
     "output_type": "execute_result"
    }
   ],
   "source": [
    "print(len(agency_task.params[\"A\"]))  # so, there are three A tensors\n",
    "\n",
    "# (num_participants, num_outcome_observations, num_experimental_conditions, num_self_action_states, num_other_action_states)\n",
    "print(agency_task.params[\"A\"][0].shape)\n",
    "\n",
    "# (num_participants, num_self_action_observations, num_self_action_states)\n",
    "print(agency_task.params[\"A\"][1].shape)\n",
    "\n",
    "# (num_participants, num_otheraction_observations, num_other_action_states)\n",
    "print(agency_task.params[\"A\"][2].shape)\n",
    "\n",
    "\n",
    "# printing out the A tensor for self_press, other_press, given the experimental conditions are:\n",
    "# s_pos_o_zero    s_neg_o_zer    s_zer_o_pos      s_zer_o_neg     s_zer_o_zer\n",
    "# change the last two values to set the combition of self and other action\n",
    "agency_task.params[\"A\"][0][0, ..., 0, 0]"
   ]
  },
  {
   "cell_type": "code",
   "execution_count": 7,
   "metadata": {},
   "outputs": [
    {
     "name": "stdout",
     "output_type": "stream",
     "text": [
      "3\n",
      "(80, 5, 5, 1)\n",
      "(80, 2, 2, 2)\n",
      "(80, 2, 2, 1)\n"
     ]
    },
    {
     "data": {
      "text/plain": [
       "Array([[1, 1],\n",
       "       [0, 0]], dtype=int32)"
      ]
     },
     "execution_count": 7,
     "metadata": {},
     "output_type": "execute_result"
    }
   ],
   "source": [
    "print(len(agency_task.params[\"B\"]))  # so, there are three B tensors\n",
    "\n",
    "# (num_participants, num_experimental_conditions at t+1, num_experimental_conditions at t, 1 dimension - i.e., agent has no control over it)\n",
    "print(agency_task.params[\"B\"][0].shape)\n",
    "\n",
    "# (num_participants, num_self_action_states at t+1, num_self_action_states at t, agent can control it in 2 ways (to press, or not))\n",
    "print(agency_task.params[\"B\"][1].shape)\n",
    "\n",
    "# (num_participants, num_other_action_states at t+1, num_other_action_states at t, 1 dimension - i.e., agent has no control over it)\n",
    "print(agency_task.params[\"B\"][2].shape)\n",
    "\n",
    "\n",
    "# printing out the B tensor[0]\n",
    "# change the last value to see how the states can be controlled\n",
    "agency_task.params[\"B\"][1][0, ..., 0]"
   ]
  },
  {
   "cell_type": "code",
   "execution_count": 8,
   "metadata": {},
   "outputs": [],
   "source": [
    "# setting keys to num_participants + 1 to ensure each participant has a unique random key\n",
    "keys = jr.split(key, batch_size + 1)\n",
    "key = keys[-1]\n",
    "\n",
    "# initiating actions for all participants as [0,0,0]\n",
    "actions = jnp.broadcast_to(jnp.array([0, 0, 0]), (batch_size, 3))\n",
    "\n",
    "# step through the simulation via generative process defined above, loading a unique key for each participant, and creating observations\n",
    "obs, agency_task = agency_task.step(keys[:batch_size], actions)"
   ]
  },
  {
   "cell_type": "markdown",
   "metadata": {},
   "source": [
    "# Defining the Generative Model "
   ]
  },
  {
   "cell_type": "code",
   "execution_count": 9,
   "metadata": {},
   "outputs": [],
   "source": [
    "def broadcast_to_batch(xs, batch_size):\n",
    "    return jtu.tree_map(lambda x: jnp.broadcast_to(x, (batch_size,) + x.shape), xs)\n",
    "\n",
    "\n",
    "def create_A(batch_size, p_outcome_mean, p_outcome_scale):\n",
    "    ### make components for first modality\n",
    "    a1 = jnp.stack([p_outcome_mean, 1 - p_outcome_mean], -1)  # [1.0, 0.0]\n",
    "    a = jnp.ones_like(a1) / 2  # [0.5, 0.5]\n",
    "\n",
    "    # self_pos, other_pos\n",
    "    A1 = jnp.stack([a1, a, a, 1 - a1], -1)\n",
    "\n",
    "    # self_pos, other_neg\n",
    "    A2 = jnp.stack([a, 1 - a1, a1, a], -1)\n",
    "\n",
    "    # sef_neg, other_pos\n",
    "    A3 = jnp.stack([a, a1, 1 - a1, a], -1)\n",
    "\n",
    "    # self_neg, other_neg\n",
    "    A4 = jnp.stack([1 - a1, a, a, a1], -1)\n",
    "\n",
    "    _A = jnp.stack([A1, A2, A3, A4], -1).reshape(batch_size, 2, 4, 2, 2)\n",
    "    null_A = jnp.ones_like(_A[..., :1, :])\n",
    "    A_outcome = jnp.concatenate(\n",
    "        [null_A / 2, _A], -2\n",
    "    )  # shape = (batch_size, 2, 4, 3, 2)\n",
    "\n",
    "    _pA = jnp.expand_dims(p_outcome_scale, range(1, _A.ndim)) * _A\n",
    "    pA_outcome = jnp.concatenate([1e4 * null_A, _pA], -2)\n",
    "\n",
    "    ### A matrix for proprioception\n",
    "    A_self_action = jnp.concatenate(\n",
    "        [jnp.ones((2, 1)) / 2, jnp.eye(2)], -1\n",
    "    )  # with null state shape = (2, 3)\n",
    "\n",
    "    ### A matrix for observing other agent's actions\n",
    "    tmp = jnp.broadcast_to(jnp.expand_dims(jnp.eye(2), -2), (2, 2, 2))\n",
    "    A_other_action = jnp.concatenate(\n",
    "        [jnp.ones((2, 1, 2)) / 2, tmp], -2\n",
    "    )  # with null state shape = (2, 3, 2)\n",
    "\n",
    "    A = [A_outcome] + broadcast_to_batch([A_self_action, A_other_action], batch_size)\n",
    "    A_factor_list = [[0, 1, 2], [1], [1, 2]]\n",
    "\n",
    "    ### make dirichlet prior\n",
    "    pA = [pA_outcome] + jtu.tree_map(lambda x: 1e4 * x, A[1:])\n",
    "\n",
    "    return A, A_factor_list, pA"
   ]
  },
  {
   "cell_type": "code",
   "execution_count": 10,
   "metadata": {},
   "outputs": [],
   "source": [
    "# the number of states are now 4 (self_pos_other_pos, self_pos_other_neg, self_neg_other_pos, self_neg_other_neg),\n",
    "# 3 (null, self_press, self_notpress), and - note that the null state ensures obs are nullified at first timestep\n",
    "# 2 (other_press, other_notpress)\n",
    "num_states = [4, 3, 2]\n",
    "\n",
    "\n",
    "def create_B(batch_size):\n",
    "    ### B matrix for context (agency)\n",
    "    d = len(agency_names)\n",
    "    B_context = jnp.expand_dims(jnp.eye(d), -1)  # identity matrix\n",
    "\n",
    "    ### B matrix for actions the self can make\n",
    "    B_self_choice = jnp.stack(\n",
    "        [jnp.array([[1, 1], [0, 0]]), jnp.array([[0, 0], [1, 1]])], -1\n",
    "    )\n",
    "    B_self_choice = jnp.pad(\n",
    "        B_self_choice, ((1, 0), (1, 0), (0, 0))\n",
    "    )  # with null state shape = (3, 3, 2)\n",
    "\n",
    "    # this is what the B tensor will look like for self_action:\n",
    "    # [[[0, 0], [0, 0], [0, 0]],\n",
    "    #  [[0, 0], [1, 0], [1, 0]],\n",
    "    #  [[0, 0], [0, 1], [0, 1]]]\n",
    "\n",
    "    ### B matrix for actions the other can make - a flat disribution\n",
    "    d1, p1 = len(other_action_names), len(choice_other_action_names)\n",
    "    B_other_choice = jnp.ones((d1, d1, p1)) / d1\n",
    "\n",
    "    B = broadcast_to_batch([B_context, B_self_choice, B_other_choice], batch_size)\n",
    "    dependencies = [[0], [1], [2]]\n",
    "\n",
    "    return B, dependencies\n",
    "\n",
    "\n",
    "def create_C(batch_size, outcomepref, actionpref):\n",
    "    C1 = jnp.pad(outcomepref[..., None], ((0, 0), (0, 1)))\n",
    "    C2 = jnp.pad(actionpref[..., None], ((0, 0), (0, 1)))\n",
    "    C3 = jnp.zeros((batch_size, 2))\n",
    "\n",
    "    return [C1, C2, C3]\n",
    "\n",
    "\n",
    "def create_D(batch_size):\n",
    "    D_context = jnp.array([0, 0.5, 0.5, 0])\n",
    "    D_self_action = jnp.array([1.0, 0.0, 0.0])\n",
    "    D_other_action = jnp.ones(num_states[-1]) / num_states[-1]\n",
    "\n",
    "    return broadcast_to_batch([D_context, D_self_action, D_other_action], batch_size)\n",
    "\n",
    "\n",
    "def create_E(batch_size, habit_press):\n",
    "    log_E = jnp.pad(habit_press[..., None], ((0, 0), (0, 1)))\n",
    "    return nn.softmax(log_E, -1)"
   ]
  },
  {
   "cell_type": "markdown",
   "metadata": {},
   "source": [
    "# Setting up the model simulation for model fitting"
   ]
  },
  {
   "cell_type": "code",
   "execution_count": 11,
   "metadata": {},
   "outputs": [],
   "source": [
    "num_params = 5\n",
    "num_agents = batch_size\n",
    "prior = Normal(num_params, num_agents, backend=\"numpyro\")\n",
    "\n",
    "\n",
    "def transform(z):\n",
    "    # map z variables (tensors) to model parameters\n",
    "\n",
    "    num_agents, np = (\n",
    "        z.shape\n",
    "    )  # retrieves the shape of the tensor z, where num_agents would be the number of participants and np is the number of parameters per participant\n",
    "\n",
    "    assert np == 5  # test that we have exactly 5 parameters\n",
    "\n",
    "    # mapping a slice of the z tensor to a specific model parameter, applying transformations to ensure meaningful z values for the model - i.e., adding priors for the parameter values\n",
    "    # prior mean (~0.6 after transformations) and scale of learnable A_outcome\n",
    "    p_outcome_mean = nn.sigmoid(0.45 + 0.0 * z[..., 0])\n",
    "    p_outcome_scale = 1 + 0.0 * nn.softplus(z[..., 1])\n",
    "    outcomepref = 5.0 + 0 * z[..., 2]  # prior preference over outcomes (the first C)\n",
    "    actionpref = -1.0 + 0 * z[..., 3]  # prior preference over actions (the second C)\n",
    "    habit_press = 0.0 + 0.0 * z[..., 4]  # prior over policies\n",
    "\n",
    "    # creating the generative model\n",
    "    A, A_dependencies, pA = create_A(num_agents, p_outcome_mean, p_outcome_scale)\n",
    "    B, B_dependencies = create_B(num_agents)\n",
    "    C = create_C(num_agents, outcomepref, actionpref)\n",
    "    D = create_D(num_agents)\n",
    "    E = create_E(num_agents, habit_press)\n",
    "    pB = None  # not learniing B\n",
    "\n",
    "    # return the aif agent class\n",
    "    agents = AIFAgent(\n",
    "        A,\n",
    "        B,\n",
    "        C,\n",
    "        D,\n",
    "        E,\n",
    "        pA,\n",
    "        pB,\n",
    "        A_dependencies=A_dependencies,\n",
    "        B_dependencies=B_dependencies,\n",
    "        use_param_info_gain=True,\n",
    "        inference_algo=\"fpi\",\n",
    "        learn_A=True,\n",
    "        learn_B=False,\n",
    "        learn_D=False,\n",
    "        num_iter=8,\n",
    "        alpha=16.0,\n",
    "        gamma=1.0,\n",
    "        sampling_mode=\"full\",\n",
    "        action_selection=\"stochastic\",\n",
    "    )\n",
    "    return agents"
   ]
  },
  {
   "cell_type": "code",
   "execution_count": 12,
   "metadata": {},
   "outputs": [],
   "source": [
    "num_params = 5\n",
    "key, _key = jr.split(seed_key)\n",
    "z = (\n",
    "    jr.normal(_key, shape=(num_agents, num_params)) / 10\n",
    ")  # generating a tensor (z) filled with normally distributed random values, scaled down by a factor of 10\n",
    "\n",
    "agents = transform(z);  # transforming that z tensor using the function defined above"
   ]
  },
  {
   "cell_type": "code",
   "execution_count": 13,
   "metadata": {},
   "outputs": [
    {
     "name": "stderr",
     "output_type": "stream",
     "text": [
      "2024-04-27 16:09:22.023549: E external/xla/xla/service/slow_operation_alarm.cc:65] \n",
      "********************************\n",
      "[Compiling module jit_scan] Very slow compile? If you want to file a bug, run with envvar XLA_FLAGS=--xla_dump_to=/tmp/foo and attach the results.\n",
      "********************************\n",
      "2024-04-27 16:12:10.508815: E external/xla/xla/service/slow_operation_alarm.cc:133] The operation took 4m48.490114s\n",
      "\n",
      "********************************\n",
      "[Compiling module jit_scan] Very slow compile? If you want to file a bug, run with envvar XLA_FLAGS=--xla_dump_to=/tmp/foo and attach the results.\n",
      "********************************\n"
     ]
    }
   ],
   "source": [
    "\"\"\" running model simulation \"\"\"\n",
    "\n",
    "from pybefit.inference.methods import default_dict_nuts\n",
    "\n",
    "# defining options for the task and model\n",
    "opts_task = {\n",
    "    \"task\": agency_task,\n",
    "    \"num_blocks\": num_blocks,\n",
    "    \"num_trials\": num_timesteps,\n",
    "    \"num_agents\": num_agents,\n",
    "}\n",
    "opts_model = {\"prior\": {}, \"transform\": {}, \"likelihood\": opts_task}\n",
    "\n",
    "model = NumpyroModel(prior, transform, likelihood, opts=opts_model)\n",
    "\n",
    "pred = Predictive(\n",
    "    model, num_samples=1\n",
    ")  # creating a predictive distribution sample from a given probabilistic model that we defined above\n",
    "key, _key = jr.split(key)\n",
    "samples = pred(_key)"
   ]
  },
  {
   "cell_type": "code",
   "execution_count": 14,
   "metadata": {},
   "outputs": [
    {
     "data": {
      "text/plain": [
       "dict_keys(['agent', 'beliefs', 'first_agent', 'multiaction_cat', 'multiaction_probs', 'multiactions', 'outcomes', 'states', 'z'])"
      ]
     },
     "execution_count": 14,
     "metadata": {},
     "output_type": "execute_result"
    }
   ],
   "source": [
    "samples.keys()"
   ]
  },
  {
   "cell_type": "code",
   "execution_count": 15,
   "metadata": {},
   "outputs": [],
   "source": [
    "\"\"\" extracting variables for plotting \"\"\"\n",
    "\n",
    "exp_condition = samples[\"states\"][-1][0][0]\n",
    "last_beliefs_about_condition = samples[\"beliefs\"][0][..., -1, :]\n",
    "\n",
    "self_rating = (\n",
    "    last_beliefs_about_condition[0, ..., 0]\n",
    "    + last_beliefs_about_condition[0, ..., 1]\n",
    "    - last_beliefs_about_condition[0, ..., 2]\n",
    "    - last_beliefs_about_condition[0, ..., 3]\n",
    ")\n",
    "other_rating = (\n",
    "    last_beliefs_about_condition[0, ..., 0]\n",
    "    + last_beliefs_about_condition[0, ..., 2]\n",
    "    - last_beliefs_about_condition[0, ..., 1]\n",
    "    - last_beliefs_about_condition[0, ..., 3]\n",
    ")"
   ]
  },
  {
   "cell_type": "code",
   "execution_count": 16,
   "metadata": {},
   "outputs": [
    {
     "data": {
      "text/plain": [
       "<matplotlib.legend.Legend at 0x34cb6d990>"
      ]
     },
     "execution_count": 16,
     "metadata": {},
     "output_type": "execute_result"
    },
    {
     "data": {
      "image/png": "[encoded data removed]",
      "text/plain": [
       "<Figure size 640x480 with 1 Axes>"
      ]
     },
     "metadata": {},
     "output_type": "display_data"
    }
   ],
   "source": [
    "labels = {\n",
    "    0: \"s_pos_o_zer\",\n",
    "    1: \"s_neg_o_zer\",\n",
    "    2: \"s_zer_o_pos\",\n",
    "    3: \"s_zer_o_neg\",\n",
    "    4: \"s_zer_o_zer\",\n",
    "}\n",
    "x = []\n",
    "y1 = []\n",
    "y2 = []\n",
    "for i in [3, 1, 4, 0, 2]:\n",
    "    loc = exp_condition == i\n",
    "    x.append(labels[i])\n",
    "    y1.append(self_rating[loc].mean())\n",
    "    y2.append(other_rating[loc].mean())\n",
    "\n",
    "plt.plot(x, y1, \"o\", label=\"self rating\")\n",
    "plt.plot(x, y2, \"d\", label=\"other rating\")\n",
    "plt.legend()"
   ]
  },
  {
   "cell_type": "markdown",
   "metadata": {},
   "source": [
    "### TODO: Test if the experimental simulations work correctly"
   ]
  },
  {
   "cell_type": "code",
   "execution_count": null,
   "metadata": {},
   "outputs": [],
   "source": [
    "# perform inference using no-u-turn sampler\n",
    "# opts sampling dictionary can be used to specify various parameters\n",
    "# either for the NUTS kernel or MCMC sampler\n",
    "measurments = {\n",
    "    \"outcomes\": [outcomes[0] for outcomes in samples[\"outcomes\"]],\n",
    "    \"multiactions\": samples[\"multiactions\"][0],\n",
    "    \"multiaction_cat\": samples[\"multiaction_cat\"][0],\n",
    "}\n",
    "\n",
    "opts_sampling = default_dict_nuts\n",
    "opts_sampling[\"num_warmup\"] = 400\n",
    "opts_sampling[\"num_samples\"] = 100\n",
    "opts_sampling[\"sampler_kwargs\"] = {\"kernel\": {}, \"mcmc\": {\"progress_bar\": True}}\n",
    "print(opts_sampling)\n",
    "\n",
    "mcmc_samples, mcmc = run_nuts(model, measurments, opts=opts_sampling)"
   ]
  },
  {
   "cell_type": "code",
   "execution_count": null,
   "metadata": {},
   "outputs": [],
   "source": [
    "measurments = {\n",
    "    \"outcomes\": [outcomes[0] for outcomes in samples[\"outcomes\"]],\n",
    "    \"multiactions\": samples[\"multiactions\"][0],\n",
    "    \"multiaction_cat\": samples[\"multiaction_cat\"][0],\n",
    "}\n",
    "\n",
    "posterior = NumpyroGuide(NormalPosterior(num_params, num_agents, backend=\"numpyro\"))\n",
    "\n",
    "# perform inference using stochastic variational inference\n",
    "opts_svi = default_dict_numpyro_svi | {\"iter_steps\": 1}\n",
    "print(opts_svi)\n",
    "\n",
    "svi_samples, svi, results = run_svi(model, posterior, measurments, opts=opts_svi)"
   ]
  },
  {
   "cell_type": "code",
   "execution_count": null,
   "metadata": {},
   "outputs": [],
   "source": [
    "plt.plot(results.losses)"
   ]
  },
  {
   "cell_type": "code",
   "execution_count": null,
   "metadata": {},
   "outputs": [],
   "source": [
    "plt.figure(figsize=(16, 5))\n",
    "for i in range(3):\n",
    "    plt.scatter(z[:, i], mcmc_samples[\"z\"].mean(0)[:, i], label=i)\n",
    "\n",
    "plt.plot((z.min(), z.max()), (z.min(), z.max()), \"k--\")\n",
    "plt.ylabel(\"posterior mean\")\n",
    "plt.xlabel(\"true value\")\n",
    "plt.legend(title=\"parameter id\")"
   ]
  },
  {
   "cell_type": "code",
   "execution_count": null,
   "metadata": {},
   "outputs": [],
   "source": [
    "plt.figure(figsize=(16, 5))\n",
    "for i in range(3):\n",
    "    plt.scatter(z[:, i], svi_samples[\"z\"].mean(0)[:, i], label=i)\n",
    "\n",
    "plt.plot((z.min(), z.max()), (z.min(), z.max()), \"k--\")\n",
    "plt.ylabel(\"posterior mean\")\n",
    "plt.xlabel(\"true value\")\n",
    "plt.legend(title=\"parameter id\")"
   ]
  },
  {
   "cell_type": "code",
   "execution_count": null,
   "metadata": {},
   "outputs": [],
   "source": []
  }
 ],
 "metadata": {
  "kernelspec": {
   "display_name": "Python 3 (ipykernel)",
   "language": "python",
   "name": "python3"
  },
  "language_info": {
   "codemirror_mode": {
    "name": "ipython",
    "version": 3
   },
   "file_extension": ".py",
   "mimetype": "text/x-python",
   "name": "python",
   "nbconvert_exporter": "python",
   "pygments_lexer": "ipython3",
   "version": "3.11.7"
  },
  "vscode": {
   "interpreter": {
    "hash": "767d51c1340bd893661ea55ea3124f6de3c7a262a8b4abca0554b478b1e2ff90"
   }
  }
 },
 "nbformat": 4,
 "nbformat_minor": 2
}
