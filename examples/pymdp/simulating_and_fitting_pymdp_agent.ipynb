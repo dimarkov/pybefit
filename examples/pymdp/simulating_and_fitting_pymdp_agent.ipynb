{
 "cells": [
  {
   "cell_type": "code",
   "execution_count": 1,
   "metadata": {},
   "outputs": [
    {
     "data": {
      "text/html": [
       "\n",
       "                <script type=\"application/javascript\" id=\"jupyter_black\">\n",
       "                (function() {\n",
       "                    if (window.IPython === undefined) {\n",
       "                        return\n",
       "                    }\n",
       "                    var msg = \"WARNING: it looks like you might have loaded \" +\n",
       "                        \"jupyter_black in a non-lab notebook with \" +\n",
       "                        \"`is_lab=True`. Please double check, and if \" +\n",
       "                        \"loading with `%load_ext` please review the README!\"\n",
       "                    console.log(msg)\n",
       "                    alert(msg)\n",
       "                })()\n",
       "                </script>\n",
       "                "
      ],
      "text/plain": [
       "<IPython.core.display.HTML object>"
      ]
     },
     "metadata": {},
     "output_type": "display_data"
    }
   ],
   "source": [
    "%load_ext jupyter_black\n",
    "%matplotlib inline"
   ]
  },
  {
   "cell_type": "code",
   "execution_count": 2,
   "metadata": {},
   "outputs": [],
   "source": [
    "import matplotlib.pyplot as plt\n",
    "import arviz as az\n",
    "\n",
    "import jax.random as jr\n",
    "import jax.numpy as jnp\n",
    "import jax.tree_util as jtu\n",
    "\n",
    "from jax import nn, lax, vmap\n",
    "\n",
    "from pymdp.jax.agent import Agent as AIFAgent\n",
    "\n",
    "from pybefit.inference import run_nuts, run_svi, default_dict_nuts\n",
    "\n",
    "from pybefit.inference import NumpyroModel, NumpyroGuide\n",
    "from pybefit.inference import RegularisedHorseshoe, RegularisedHorseshoePosterior\n",
    "from pybefit.inference.numpyro.likelihoods import pymdp_likelihood as likelihood\n",
    "\n",
    "from numpyro.infer.autoguide import AutoNormal, AutoMultivariateNormal\n",
    "from numpyro.infer import Predictive\n",
    "\n",
    "from pymdp.utils import random_A_matrix, random_B_matrix\n",
    "from equinox import Module, field\n",
    "\n",
    "seed_key = jr.PRNGKey(101)"
   ]
  },
  {
   "cell_type": "code",
   "execution_count": 3,
   "metadata": {},
   "outputs": [],
   "source": [
    "# define an agent and environment here\n",
    "batch_size = 10\n",
    "num_obs = [3, 3]\n",
    "num_states = [3, 3]\n",
    "num_controls = [2, 2]\n",
    "num_blocks = 25\n",
    "num_timesteps = 5\n",
    "\n",
    "A_np = random_A_matrix(num_obs=num_obs, num_states=num_states)\n",
    "B_np = random_B_matrix(num_states=num_states, num_controls=num_controls)\n",
    "A = jtu.tree_map(lambda x: jnp.broadcast_to(x, (batch_size,) + x.shape), list(A_np))\n",
    "B = jtu.tree_map(lambda x: jnp.broadcast_to(x, (batch_size,) + x.shape), list(B_np))\n",
    "C = [jnp.zeros((batch_size, no)) for no in num_obs]\n",
    "D = [jnp.ones((batch_size, ns)) / ns for ns in num_states]\n",
    "E = jnp.ones((batch_size, 4)) / 4\n",
    "\n",
    "pA = jtu.tree_map(lambda x: jnp.broadcast_to(x, (batch_size,) + x.shape), list(A_np))\n",
    "pB = jtu.tree_map(lambda x: jnp.broadcast_to(x, (batch_size,) + x.shape), list(B_np))\n",
    "\n",
    "\n",
    "class TestEnv(Module):\n",
    "    num_obs: int = field(static=True)\n",
    "\n",
    "    def __init__(self, num_obs):\n",
    "        self.num_obs = num_obs\n",
    "\n",
    "    @vmap\n",
    "    def step(self, *args, **kwargs):\n",
    "        # return a list of random observations for each agent or parallel realization (each entry in batch_dim)\n",
    "        key = kwargs[\"key\"]\n",
    "        obs = [jr.randint(key, (), 0, no) for no in self.num_obs]\n",
    "        return obs\n",
    "\n",
    "\n",
    "agents = AIFAgent(A, B, C, D, E, pA, pB, use_param_info_gain=True, inference_algo=\"mmp\")\n",
    "task = TestEnv(num_obs)"
   ]
  },
  {
   "cell_type": "code",
   "execution_count": 4,
   "metadata": {},
   "outputs": [],
   "source": [
    "num_params = 3\n",
    "num_agents = batch_size\n",
    "prior = RegularisedHorseshoe(num_params, num_agents, backend=\"numpyro\")\n",
    "\n",
    "\n",
    "def transform(z):\n",
    "    # map z variables to model parameters\n",
    "\n",
    "    na, np = z.shape\n",
    "\n",
    "    assert np == 3  # test that we have only 3 parameters\n",
    "\n",
    "    a = nn.sigmoid(z[..., 0])  # element of the likelihood matrix\n",
    "    lam = jnp.exp(z[..., 1])  # outcome preference\n",
    "    d = nn.sigmoid(z[..., 2])  # prior state probability\n",
    "\n",
    "    C = [\n",
    "        jnp.zeros((na, 3)),\n",
    "        jnp.expand_dims(lam, -1) * jnp.array([0.0, 1.0, -1.0]),\n",
    "    ]\n",
    "\n",
    "    D = [jnp.ones((na, 3)) / 3, jnp.stack([d, 1 - d, jnp.zeros(na)], -1)]\n",
    "\n",
    "    # replace first component of A with parameterised likelihood matrix\n",
    "\n",
    "    a1 = jnp.stack([a, 1 - a, jnp.zeros(na)], -1)\n",
    "\n",
    "    A[0] = jnp.broadcast_to(\n",
    "        jnp.expand_dims(a1, (-1, -2)), (na, num_obs[0], *num_states)\n",
    "    )\n",
    "\n",
    "    # return the aif agent class\n",
    "    agent = AIFAgent(\n",
    "        A, B, C, D, E, pA, pB, use_param_info_gain=True, inference_algo=\"mmp\"\n",
    "    )\n",
    "    return agent\n",
    "\n",
    "\n",
    "key, _key = jr.split(seed_key)\n",
    "z = jr.normal(_key, shape=(num_agents, num_params)) / 10\n",
    "\n",
    "transform(z);"
   ]
  },
  {
   "cell_type": "code",
   "execution_count": 5,
   "metadata": {},
   "outputs": [],
   "source": [
    "opts_task = {\n",
    "    \"task\": task,\n",
    "    \"num_blocks\": num_blocks,\n",
    "    \"num_trials\": num_timesteps,\n",
    "    \"num_agents\": num_agents,\n",
    "}\n",
    "opts_model = {\"prior\": {}, \"transform\": {}, \"likelihood\": opts_task}\n",
    "\n",
    "model = NumpyroModel(prior, transform, likelihood, opts=opts_model)\n",
    "\n",
    "pred = Predictive(model, num_samples=1)\n",
    "key, _key = jr.split(key)\n",
    "samples = pred(_key)"
   ]
  },
  {
   "cell_type": "code",
   "execution_count": 6,
   "metadata": {},
   "outputs": [
    {
     "name": "stdout",
     "output_type": "stream",
     "text": [
      "{'seed': 0, 'num_samples': 1, 'num_warmup': 1, 'sampler_kwargs': {'kernel': {}, 'mcmc': {}}}\n"
     ]
    },
    {
     "name": "stderr",
     "output_type": "stream",
     "text": [
      "sample: 100%|██████████| 2/2 [00:29<00:00, 14.77s/it, 1 steps of size 2.34e+00. acc. prob=0.00]\n"
     ]
    }
   ],
   "source": [
    "# perform inference using no-u-turn sampler\n",
    "# opts sampling dictionary can be used to specify various parameters\n",
    "# either for the NUTS kernel or MCMC sampler\n",
    "model = NumpyroModel(prior, transform, likelihood, opts=opts_model)\n",
    "\n",
    "experimental_data = {\n",
    "    \"multiactions\": samples[\"multiactions\"][0],\n",
    "    \"outcomes\": jtu.tree_map(lambda x: x[0], samples[\"outcomes\"]),\n",
    "}\n",
    "\n",
    "opts_sampling = default_dict_nuts\n",
    "opts_sampling[\"num_warmup\"] = 1\n",
    "opts_sampling[\"num_samples\"] = 1\n",
    "print(opts_sampling)\n",
    "\n",
    "nuts_samples, mcmc = run_nuts(model, experimental_data, opts=opts_sampling)"
   ]
  },
  {
   "cell_type": "code",
   "execution_count": 13,
   "metadata": {},
   "outputs": [
    {
     "ename": "KeyError",
     "evalue": "'num_agents'",
     "output_type": "error",
     "traceback": [
      "\u001b[0;31m---------------------------------------------------------------------------\u001b[0m",
      "\u001b[0;31mKeyError\u001b[0m                                  Traceback (most recent call last)",
      "\u001b[1;32m/home/dima/Dropbox/development/python/pybefit/examples/pymdp/simulating_and_fitting_pymdp_agent.ipynb Cell 7\u001b[0m line \u001b[0;36m1\n\u001b[1;32m     <a href='vscode-notebook-cell:/home/dima/Dropbox/development/python/pybefit/examples/pymdp/simulating_and_fitting_pymdp_agent.ipynb#X24sZmlsZQ%3D%3D?line=9'>10</a>\u001b[0m \u001b[39mfrom\u001b[39;00m \u001b[39mnumpyro\u001b[39;00m \u001b[39mimport\u001b[39;00m handlers\n\u001b[1;32m     <a href='vscode-notebook-cell:/home/dima/Dropbox/development/python/pybefit/examples/pymdp/simulating_and_fitting_pymdp_agent.ipynb#X24sZmlsZQ%3D%3D?line=11'>12</a>\u001b[0m \u001b[39mwith\u001b[39;00m handlers\u001b[39m.\u001b[39mseed(rng_seed\u001b[39m=\u001b[39m\u001b[39m0\u001b[39m):\n\u001b[0;32m---> <a href='vscode-notebook-cell:/home/dima/Dropbox/development/python/pybefit/examples/pymdp/simulating_and_fitting_pymdp_agent.ipynb#X24sZmlsZQ%3D%3D?line=12'>13</a>\u001b[0m     posterior(data\u001b[39m=\u001b[39;49mexperimental_data)\n\u001b[1;32m     <a href='vscode-notebook-cell:/home/dima/Dropbox/development/python/pybefit/examples/pymdp/simulating_and_fitting_pymdp_agent.ipynb#X24sZmlsZQ%3D%3D?line=14'>15</a>\u001b[0m \u001b[39m# experimental_data = {\u001b[39;00m\n\u001b[1;32m     <a href='vscode-notebook-cell:/home/dima/Dropbox/development/python/pybefit/examples/pymdp/simulating_and_fitting_pymdp_agent.ipynb#X24sZmlsZQ%3D%3D?line=15'>16</a>\u001b[0m \u001b[39m#     \"multiactions\": samples[\"multiactions\"][0],\u001b[39;00m\n\u001b[1;32m     <a href='vscode-notebook-cell:/home/dima/Dropbox/development/python/pybefit/examples/pymdp/simulating_and_fitting_pymdp_agent.ipynb#X24sZmlsZQ%3D%3D?line=16'>17</a>\u001b[0m \u001b[39m#     \"outcomes\": jtu.tree_map(lambda x: x[0], samples[\"outcomes\"]),\u001b[39;00m\n\u001b[0;32m   (...)\u001b[0m\n\u001b[1;32m     <a href='vscode-notebook-cell:/home/dima/Dropbox/development/python/pybefit/examples/pymdp/simulating_and_fitting_pymdp_agent.ipynb#X24sZmlsZQ%3D%3D?line=22'>23</a>\u001b[0m \n\u001b[1;32m     <a href='vscode-notebook-cell:/home/dima/Dropbox/development/python/pybefit/examples/pymdp/simulating_and_fitting_pymdp_agent.ipynb#X24sZmlsZQ%3D%3D?line=23'>24</a>\u001b[0m \u001b[39m# samples, svi, results = run_svi(model, posterior, experimental_data, opts=opts_svi)\u001b[39;00m\n",
      "File \u001b[0;32m~/Dropbox/development/python/pybefit/src/pybefit/inference/models.py:61\u001b[0m, in \u001b[0;36mNumpyroGuide.__call__\u001b[0;34m(self, data)\u001b[0m\n\u001b[1;32m     60\u001b[0m \u001b[39mdef\u001b[39;00m \u001b[39m__call__\u001b[39m(\u001b[39mself\u001b[39m, data\u001b[39m=\u001b[39m\u001b[39mNone\u001b[39;00m):\n\u001b[0;32m---> 61\u001b[0m     \u001b[39mself\u001b[39;49m\u001b[39m.\u001b[39;49mguide(data)\n",
      "File \u001b[0;32m~/.conda/envs/befit/lib/python3.11/site-packages/numpyro/infer/autoguide.py:287\u001b[0m, in \u001b[0;36mAutoNormal.__call__\u001b[0;34m(self, *args, **kwargs)\u001b[0m\n\u001b[1;32m    283\u001b[0m \u001b[39mif\u001b[39;00m \u001b[39mself\u001b[39m\u001b[39m.\u001b[39mprototype_trace \u001b[39mis\u001b[39;00m \u001b[39mNone\u001b[39;00m:\n\u001b[1;32m    284\u001b[0m     \u001b[39m# run model to inspect the model structure\u001b[39;00m\n\u001b[1;32m    285\u001b[0m     \u001b[39mself\u001b[39m\u001b[39m.\u001b[39m_setup_prototype(\u001b[39m*\u001b[39margs, \u001b[39m*\u001b[39m\u001b[39m*\u001b[39mkwargs)\n\u001b[0;32m--> 287\u001b[0m plates \u001b[39m=\u001b[39m \u001b[39mself\u001b[39;49m\u001b[39m.\u001b[39;49m_create_plates(\u001b[39m*\u001b[39;49margs, \u001b[39m*\u001b[39;49m\u001b[39m*\u001b[39;49mkwargs)\n\u001b[1;32m    288\u001b[0m result \u001b[39m=\u001b[39m {}\n\u001b[1;32m    289\u001b[0m \u001b[39mfor\u001b[39;00m name, site \u001b[39min\u001b[39;00m \u001b[39mself\u001b[39m\u001b[39m.\u001b[39mprototype_trace\u001b[39m.\u001b[39mitems():\n",
      "File \u001b[0;32m~/.conda/envs/befit/lib/python3.11/site-packages/numpyro/infer/autoguide.py:109\u001b[0m, in \u001b[0;36mAutoGuide._create_plates\u001b[0;34m(self, *args, **kwargs)\u001b[0m\n\u001b[1;32m    107\u001b[0m \u001b[39mfor\u001b[39;00m name, frame \u001b[39min\u001b[39;00m \u001b[39msorted\u001b[39m(\u001b[39mself\u001b[39m\u001b[39m.\u001b[39m_prototype_frames\u001b[39m.\u001b[39mitems()):\n\u001b[1;32m    108\u001b[0m     \u001b[39mif\u001b[39;00m name \u001b[39mnot\u001b[39;00m \u001b[39min\u001b[39;00m \u001b[39mself\u001b[39m\u001b[39m.\u001b[39mplates:\n\u001b[0;32m--> 109\u001b[0m         full_size \u001b[39m=\u001b[39m \u001b[39mself\u001b[39;49m\u001b[39m.\u001b[39;49m_prototype_frame_full_sizes[name]\n\u001b[1;32m    110\u001b[0m         \u001b[39mself\u001b[39m\u001b[39m.\u001b[39mplates[name] \u001b[39m=\u001b[39m numpyro\u001b[39m.\u001b[39mplate(\n\u001b[1;32m    111\u001b[0m             name, full_size, dim\u001b[39m=\u001b[39mframe\u001b[39m.\u001b[39mdim, subsample_size\u001b[39m=\u001b[39mframe\u001b[39m.\u001b[39msize\n\u001b[1;32m    112\u001b[0m         )\n\u001b[1;32m    113\u001b[0m \u001b[39mreturn\u001b[39;00m \u001b[39mself\u001b[39m\u001b[39m.\u001b[39mplates\n",
      "\u001b[0;31mKeyError\u001b[0m: 'num_agents'"
     ]
    }
   ],
   "source": [
    "from pybefit.inference.methods import default_dict_numpyro_svi\n",
    "from numpyro.infer.autoguide import AutoNormal\n",
    "\n",
    "model = NumpyroModel(prior, transform, likelihood, opts=opts_model)\n",
    "\n",
    "test_guide = AutoNormal(model)\n",
    "\n",
    "posterior = NumpyroGuide(test_guide)\n",
    "\n",
    "experimental_data = {\n",
    "    \"multiactions\": samples[\"multiactions\"][0],\n",
    "    \"outcomes\": jtu.tree_map(lambda x: x[0], samples[\"outcomes\"]),\n",
    "}\n",
    "\n",
    "from numpyro import handlers\n",
    "\n",
    "with handlers.seed(rng_seed=0):\n",
    "    posterior(data=experimental_data)\n",
    "\n",
    "\n",
    "# # perform inference using stochastic variational inference\n",
    "# opts_svi = default_dict_numpyro_svi\n",
    "# print(opts_svi)\n",
    "\n",
    "# samples, svi, results = run_svi(model, posterior, experimental_data, opts=opts_svi)"
   ]
  },
  {
   "cell_type": "code",
   "execution_count": null,
   "metadata": {},
   "outputs": [
    {
     "ename": "NameError",
     "evalue": "name 'mcmc' is not defined",
     "output_type": "error",
     "traceback": [
      "\u001b[0;31m---------------------------------------------------------------------------\u001b[0m",
      "\u001b[0;31mNameError\u001b[0m                                 Traceback (most recent call last)",
      "\u001b[1;32m/home/dima/Dropbox/development/python/pybefit/examples/pymdp/simulating_and_fitting_pymdp_agent.ipynb Cell 8\u001b[0m line \u001b[0;36m3\n\u001b[1;32m      <a href='vscode-notebook-cell:/home/dima/Dropbox/development/python/pybefit/examples/pymdp/simulating_and_fitting_pymdp_agent.ipynb#X10sZmlsZQ%3D%3D?line=0'>1</a>\u001b[0m \u001b[39m# we can use arviz for evaluating the quality of the inference or model evidence\u001b[39;00m\n\u001b[0;32m----> <a href='vscode-notebook-cell:/home/dima/Dropbox/development/python/pybefit/examples/pymdp/simulating_and_fitting_pymdp_agent.ipynb#X10sZmlsZQ%3D%3D?line=2'>3</a>\u001b[0m idata \u001b[39m=\u001b[39m az\u001b[39m.\u001b[39mfrom_numpyro(mcmc)\n\u001b[1;32m      <a href='vscode-notebook-cell:/home/dima/Dropbox/development/python/pybefit/examples/pymdp/simulating_and_fitting_pymdp_agent.ipynb#X10sZmlsZQ%3D%3D?line=3'>4</a>\u001b[0m \u001b[39mprint\u001b[39m(az\u001b[39m.\u001b[39mloo(idata))\n\u001b[1;32m      <a href='vscode-notebook-cell:/home/dima/Dropbox/development/python/pybefit/examples/pymdp/simulating_and_fitting_pymdp_agent.ipynb#X10sZmlsZQ%3D%3D?line=5'>6</a>\u001b[0m az\u001b[39m.\u001b[39mplot_trace(idata, var_names\u001b[39m=\u001b[39m(\u001b[39m\"\u001b[39m\u001b[39mmu\u001b[39m\u001b[39m\"\u001b[39m, \u001b[39m\"\u001b[39m\u001b[39msigma\u001b[39m\u001b[39m\"\u001b[39m, \u001b[39m\"\u001b[39m\u001b[39mz\u001b[39m\u001b[39m\"\u001b[39m));\n",
      "\u001b[0;31mNameError\u001b[0m: name 'mcmc' is not defined"
     ]
    }
   ],
   "source": [
    "# we can use arviz for evaluating the quality of the inference or model evidence\n",
    "\n",
    "idata = az.from_numpyro(mcmc)\n",
    "print(az.loo(idata))\n",
    "\n",
    "az.plot_trace(idata, var_names=(\"mu\", \"sigma\", \"z\"));"
   ]
  },
  {
   "cell_type": "code",
   "execution_count": null,
   "metadata": {},
   "outputs": [
    {
     "ename": "",
     "evalue": "",
     "output_type": "error",
     "traceback": [
      "\u001b[1;31mRunning cells with 'befit' requires the ipykernel package.\n",
      "\u001b[1;31mRun the following command to install 'ipykernel' into the Python environment. \n",
      "\u001b[1;31mCommand: 'conda install -n befit ipykernel --update-deps --force-reinstall'"
     ]
    }
   ],
   "source": [
    "plt.figure(figsize=(16, 5))\n",
    "labels = [r\"$f^{-1}(a)$\", r\"$f^{-1}(\\lambda)$\", r\"$f^{-1}(d)$\"]\n",
    "for i in range(3):\n",
    "    plt.scatter(z[:, i], samples[\"z\"].mean(0)[:, i], label=labels[i])\n",
    "\n",
    "plt.plot((z.min(), z.max()), (z.min(), z.max()), \"k--\")\n",
    "plt.ylabel(\"posterior mean\")\n",
    "plt.xlabel(\"true value\")\n",
    "plt.legend(title=\"parameter\")"
   ]
  },
  {
   "cell_type": "code",
   "execution_count": null,
   "metadata": {},
   "outputs": [
    {
     "ename": "",
     "evalue": "",
     "output_type": "error",
     "traceback": [
      "\u001b[1;31mRunning cells with 'befit' requires the ipykernel package.\n",
      "\u001b[1;31mRun the following command to install 'ipykernel' into the Python environment. \n",
      "\u001b[1;31mCommand: 'conda install -n befit ipykernel --update-deps --force-reinstall'"
     ]
    }
   ],
   "source": [
    "from pybefit.inference.methods import default_dict_numpyro_svi\n",
    "\n",
    "posterior = NumpyroGuide(\n",
    "    RegularisedHorseshoePosterior(num_params, num_agents, backend=\"numpyro\")\n",
    ")\n",
    "\n",
    "# perform inference using stochastic variational inference\n",
    "opts_svi = default_dict_numpyro_svi\n",
    "print(opts_svi)\n",
    "\n",
    "samples, svi, results = run_svi(model, posterior, measurments, opts=opts_svi)"
   ]
  },
  {
   "cell_type": "code",
   "execution_count": null,
   "metadata": {},
   "outputs": [
    {
     "ename": "",
     "evalue": "",
     "output_type": "error",
     "traceback": [
      "\u001b[1;31mRunning cells with 'befit' requires the ipykernel package.\n",
      "\u001b[1;31mRun the following command to install 'ipykernel' into the Python environment. \n",
      "\u001b[1;31mCommand: 'conda install -n befit ipykernel --update-deps --force-reinstall'"
     ]
    }
   ],
   "source": [
    "plt.figure(figsize=(16, 5))\n",
    "for i in range(3):\n",
    "    plt.scatter(z[:, i], samples[\"z\"].mean(0)[:, i], label=i)\n",
    "\n",
    "plt.plot((z.min(), z.max()), (z.min(), z.max()), \"k--\")\n",
    "plt.ylabel(\"posterior mean\")\n",
    "plt.xlabel(\"true value\")\n",
    "plt.legend(title=\"parameter id\")"
   ]
  }
 ],
 "metadata": {
  "kernelspec": {
   "display_name": "Python 3 (ipykernel)",
   "language": "python",
   "name": "python3"
  },
  "language_info": {
   "codemirror_mode": {
    "name": "ipython",
    "version": 3
   },
   "file_extension": ".py",
   "mimetype": "text/x-python",
   "name": "python",
   "nbconvert_exporter": "python",
   "pygments_lexer": "ipython3",
   "version": "3.11.6"
  },
  "vscode": {
   "interpreter": {
    "hash": "767d51c1340bd893661ea55ea3124f6de3c7a262a8b4abca0554b478b1e2ff90"
   }
  }
 },
 "nbformat": 4,
 "nbformat_minor": 2
}
