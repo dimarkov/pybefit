{
 "cells": [
  {
   "cell_type": "code",
   "execution_count": 2,
   "metadata": {},
   "outputs": [
    {
     "ename": "NameError",
     "evalue": "name 'Inferrer' is not defined",
     "output_type": "error",
     "traceback": [
      "\u001b[0;31m---------------------------------------------------------------------------\u001b[0m",
      "\u001b[0;31mNameError\u001b[0m                                 Traceback (most recent call last)",
      "Cell \u001b[0;32mIn[2], line 9\u001b[0m\n\u001b[1;32m      6\u001b[0m \u001b[39mfrom\u001b[39;00m \u001b[39mpybefit\u001b[39;00m\u001b[39m.\u001b[39;00m\u001b[39minference\u001b[39;00m\u001b[39m.\u001b[39;00m\u001b[39mmethods\u001b[39;00m \u001b[39mimport\u001b[39;00m run_nuts, run_svi\n\u001b[1;32m      8\u001b[0m \u001b[39mfrom\u001b[39;00m \u001b[39mpybefit\u001b[39;00m\u001b[39m.\u001b[39;00m\u001b[39minference\u001b[39;00m\u001b[39m.\u001b[39;00m\u001b[39mnumpyro\u001b[39;00m\u001b[39m.\u001b[39;00m\u001b[39mmodels\u001b[39;00m \u001b[39mimport\u001b[39;00m NumpyroModel, NumpyroGuide\n\u001b[0;32m----> 9\u001b[0m \u001b[39mfrom\u001b[39;00m \u001b[39mpybefit\u001b[39;00m\u001b[39m.\u001b[39;00m\u001b[39minference\u001b[39;00m\u001b[39m.\u001b[39;00m\u001b[39mnumpyro\u001b[39;00m\u001b[39m.\u001b[39;00m\u001b[39mpriors\u001b[39;00m \u001b[39mimport\u001b[39;00m Normal, NormalGamma, RegularisedHorseshoe\n\u001b[1;32m     10\u001b[0m \u001b[39mfrom\u001b[39;00m \u001b[39mpybefit\u001b[39;00m\u001b[39m.\u001b[39;00m\u001b[39minference\u001b[39;00m\u001b[39m.\u001b[39;00m\u001b[39mnumpyro\u001b[39;00m\u001b[39m.\u001b[39;00m\u001b[39mlikelihoods\u001b[39;00m \u001b[39mimport\u001b[39;00m pymdp_likelihood \u001b[39mas\u001b[39;00m likelihood\n\u001b[1;32m     12\u001b[0m \u001b[39mfrom\u001b[39;00m \u001b[39mnumpyro\u001b[39;00m\u001b[39m.\u001b[39;00m\u001b[39minfer\u001b[39;00m\u001b[39m.\u001b[39;00m\u001b[39mautoguide\u001b[39;00m \u001b[39mimport\u001b[39;00m AutoNormal, AutoMultivariateNormal\n",
      "File \u001b[0;32m/run/media/dima/data/Dropbox/development/python/pybefit/src/pybefit/inference/numpyro/priors.py:136\u001b[0m\n\u001b[1;32m    132\u001b[0m         \u001b[39massert\u001b[39;00m z\u001b[39m.\u001b[39mshape \u001b[39m==\u001b[39m (na, np)\n\u001b[1;32m    134\u001b[0m         \u001b[39mreturn\u001b[39;00m z\n\u001b[0;32m--> 136\u001b[0m \u001b[39mclass\u001b[39;00m \u001b[39mRegularisedHorseshoe\u001b[39;00m(Inferrer):\n\u001b[1;32m    137\u001b[0m \u001b[39m    \u001b[39m\u001b[39m\"\"\"Regularised horseshoe prior over free model parameters. For details see: Piironen, Juho, and Aki Vehtari. \"Sparsity information and regularization in the horseshoe and other shrinkage priors.\" (2017): 5018-5051.\u001b[39;00m\n\u001b[1;32m    138\u001b[0m \u001b[39m    \"\"\"\u001b[39;00m\n\u001b[1;32m    140\u001b[0m     \u001b[39mdef\u001b[39;00m \u001b[39m__init__\u001b[39m(\u001b[39mself\u001b[39m, num_params, num_agents, backend\u001b[39m=\u001b[39m\u001b[39mNone\u001b[39;00m):\n",
      "\u001b[0;31mNameError\u001b[0m: name 'Inferrer' is not defined"
     ]
    }
   ],
   "source": [
    "import jax.random as jr\n",
    "\n",
    "from pymdp.jax.agent import Agent as AIFAgent\n",
    "# from pymdp import simulate_behaviour\n",
    "\n",
    "from pybefit.inference.methods import run_nuts, run_svi\n",
    "\n",
    "from pybefit.inference.numpyro.models import NumpyroModel, NumpyroGuide\n",
    "from pybefit.inference.numpyro.priors import Normal, NormalGamma, RegularisedHorseshoe\n",
    "from pybefit.inference.numpyro.likelihoods import pymdp_likelihood as likelihood\n",
    "\n",
    "from numpyro.infer.autoguide import AutoNormal, AutoMultivariateNormal\n",
    "\n",
    "rng_key = jr.PRNGKey(101)"
   ]
  },
  {
   "cell_type": "code",
   "execution_count": 2,
   "metadata": {},
   "outputs": [
    {
     "ename": "TypeError",
     "evalue": "NumpyroModel() takes no arguments",
     "output_type": "error",
     "traceback": [
      "\u001b[0;31m---------------------------------------------------------------------------\u001b[0m",
      "\u001b[0;31mTypeError\u001b[0m                                 Traceback (most recent call last)",
      "Cell \u001b[0;32mIn[2], line 9\u001b[0m\n\u001b[1;32m      5\u001b[0m \u001b[39mdef\u001b[39;00m \u001b[39mtransform\u001b[39m(z):\n\u001b[1;32m      6\u001b[0m     \u001b[39m# map z variables to model parameters\u001b[39;00m\n\u001b[1;32m      7\u001b[0m     \u001b[39mreturn\u001b[39;00m AIFAGent()\n\u001b[0;32m----> 9\u001b[0m model \u001b[39m=\u001b[39m NumpyroModel(prior, transform, likelihood)\n\u001b[1;32m     12\u001b[0m \u001b[39m# stimulus = simulate(model)\u001b[39;00m\n\u001b[1;32m     14\u001b[0m guide \u001b[39m=\u001b[39m NumpyroGuide(AutoNormal(model))\n",
      "\u001b[0;31mTypeError\u001b[0m: NumpyroModel() takes no arguments"
     ]
    }
   ],
   "source": [
    "num_params = 3\n",
    "num_agents = 100\n",
    "prior = NormalGamma(num_params, num_agents, backend='numpyro')\n",
    "\n",
    "def transform(z):\n",
    "    # map z variables to model parameters\n",
    "    return AIFAgent()\n",
    "\n",
    "model = NumpyroModel(prior, transform, likelihood)\n",
    "\n",
    "opts = {\n",
    "    'num_blocks': 10,\n",
    "    'num_trials': 2\n",
    "}\n",
    "\n",
    "rng_key, _rng_key = jr.split(rng_key)\n",
    "z = jr.normal(_rng_key, shape=(num_agents, num_params))/10\n",
    "agents = transform(z)\n",
    "\n",
    "stimulus = simulate_behaviour(agents, task, opts)\n",
    "\n",
    "guide = NumpyroGuide(AutoNormal(model))\n",
    "\n",
    "opts = {\n",
    "\n",
    "}\n",
    "\n",
    "output = run_svi(model, guide, stimulus, opts=opts)\n",
    "\n"
   ]
  },
  {
   "cell_type": "code",
   "execution_count": null,
   "metadata": {},
   "outputs": [],
   "source": []
  }
 ],
 "metadata": {
  "kernelspec": {
   "display_name": "befit",
   "language": "python",
   "name": "python3"
  },
  "language_info": {
   "codemirror_mode": {
    "name": "ipython",
    "version": 3
   },
   "file_extension": ".py",
   "mimetype": "text/x-python",
   "name": "python",
   "nbconvert_exporter": "python",
   "pygments_lexer": "ipython3",
   "version": "3.10.8"
  },
  "orig_nbformat": 4,
  "vscode": {
   "interpreter": {
    "hash": "12fcf48455c62364bbb4884ebc9722677af809836eb0e51a3bf63f0ce84d283d"
   }
  }
 },
 "nbformat": 4,
 "nbformat_minor": 2
}
