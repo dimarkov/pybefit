{
 "cells": [
  {
   "cell_type": "code",
   "execution_count": 1,
   "metadata": {},
   "outputs": [
    {
     "data": {
      "text/html": [
       "\n",
       "                <script type=\"application/javascript\" id=\"jupyter_black\">\n",
       "                (function() {\n",
       "                    if (window.IPython === undefined) {\n",
       "                        return\n",
       "                    }\n",
       "                    var msg = \"WARNING: it looks like you might have loaded \" +\n",
       "                        \"jupyter_black in a non-lab notebook with \" +\n",
       "                        \"`is_lab=True`. Please double check, and if \" +\n",
       "                        \"loading with `%load_ext` please review the README!\"\n",
       "                    console.log(msg)\n",
       "                    alert(msg)\n",
       "                })()\n",
       "                </script>\n",
       "                "
      ],
      "text/plain": [
       "<IPython.core.display.HTML object>"
      ]
     },
     "metadata": {},
     "output_type": "display_data"
    }
   ],
   "source": [
    "%load_ext jupyter_black\n",
    "%matplotlib inline\n",
    "import matplotlib.pyplot as plt\n",
    "import seaborn as sns\n",
    "\n",
    "backend = \"pyro\"\n",
    "\n",
    "if backend == \"pyro\":\n",
    "    import torch\n",
    "\n",
    "    tensor = torch\n",
    "\n",
    "else:\n",
    "    import jax.numpy as jnp\n",
    "\n",
    "    tensor = jnp"
   ]
  },
  {
   "attachments": {},
   "cell_type": "markdown",
   "metadata": {
    "slideshow": {
     "slide_type": "slide"
    }
   },
   "source": [
    "A brief tutorial for simulating behaviour in a multi armed bandit task and using simulated response to invert the model and infer model parameters for individual agents/subjects"
   ]
  },
  {
   "cell_type": "code",
   "execution_count": 2,
   "metadata": {
    "slideshow": {
     "slide_type": "skip"
    }
   },
   "outputs": [],
   "source": [
    "import numpy as np\n",
    "from local import MABTask, UCBAgent\n",
    "from pybefit.agents import transform\n",
    "\n",
    "if backend == \"pyro\":\n",
    "    from pybefit.inference import PyroGuide as Guide\n",
    "    from pybefit.inference import PyroModel as Model\n",
    "    from pyro.infer import Predictive\n",
    "    from pybefit.inference.pyro.likelihoods import befit_likelihood as likelihood\n",
    "    from pybefit.inference.methods import (\n",
    "        default_dict_pyro_svi,\n",
    "        format_posterior_samples,\n",
    "        get_log_evidence_per_subject,\n",
    "    )\n",
    "else:\n",
    "    from pybefit.inference import NumpyroGuide as Guide\n",
    "    from pybefit.inference import NumpyroModel as Model\n",
    "    from numpyro.infer import Predictive\n",
    "    from pybefit.inference.numpyro.likelihoods import befit_likelihood as likelihood\n",
    "\n",
    "from pybefit.inference import NormalGamma as Prior\n",
    "from pybefit.inference import NormalGammaPosterior as Posterior\n",
    "\n",
    "from pybefit.inference import run_nuts, run_svi"
   ]
  },
  {
   "attachments": {},
   "cell_type": "markdown",
   "metadata": {},
   "source": [
    "We start by first generating a time sequence of possible choice outcomes for the task and pack this inside the \"MABTask\" class."
   ]
  },
  {
   "cell_type": "code",
   "execution_count": 12,
   "metadata": {},
   "outputs": [
    {
     "name": "stdout",
     "output_type": "stream",
     "text": [
      "torch.float32 torch.Size([20, 10, 200, 3])\n"
     ]
    }
   ],
   "source": [
    "blocks = 20\n",
    "trials = 10\n",
    "num_arms = 3\n",
    "num_agents = 200\n",
    "\n",
    "# create task environment\n",
    "probs = np.random.dirichlet(np.ones(num_arms), size=(num_agents,))\n",
    "outcomes = tensor.ones(1) * np.random.binomial(\n",
    "    1, probs, size=(blocks, trials, num_agents, num_arms)\n",
    ").astype(np.float32)\n",
    "\n",
    "print(outcomes.dtype, outcomes.shape)\n",
    "\n",
    "mab_task = MABTask(outcomes)\n",
    "\n",
    "# create agent to recover number of parameters\n",
    "ucb_agent = UCBAgent(runs=num_agents, blocks=blocks, trials=trials, num_arms=num_arms)\n",
    "num_params = ucb_agent.num_params\n",
    "\n",
    "# set task and agent option dictionaries\n",
    "opts_task = {\n",
    "    \"task\": mab_task,\n",
    "    \"blocks\": blocks,\n",
    "    \"trials\": trials,\n",
    "    \"num_agents\": num_agents,\n",
    "}\n",
    "\n",
    "# set kwargs for transform which are passed to the agent constractor\n",
    "opts_transform = {\"blocks\": blocks, \"trials\": trials, \"num_arms\": num_arms}\n",
    "\n",
    "# set options for prior, transform and likelihood\n",
    "opts_model = {\"prior\": {}, \"transform\": opts_transform, \"likelihood\": opts_task}\n",
    "\n",
    "# define a transform for mapping unconstrained parameters 'z' to the corresponding agent class\n",
    "transform_ucb = lambda z, **kwargs: transform(z, UCBAgent, **kwargs)\n",
    "\n",
    "prior = Prior(num_params, num_agents, init_scale=0.1, backend=backend)\n",
    "gen_model = Model(prior, transform_ucb, likelihood, opts=opts_model)\n",
    "posterior = Guide(Posterior(num_params, num_agents, backend=backend))"
   ]
  },
  {
   "attachments": {},
   "cell_type": "markdown",
   "metadata": {},
   "source": [
    "Lets generate a sample from the generative model. This will sample from prior distribution some parameter values for each agent, and generate agent responses over the course of experiment, given the task environment."
   ]
  },
  {
   "cell_type": "code",
   "execution_count": 13,
   "metadata": {},
   "outputs": [],
   "source": [
    "pred = Predictive(gen_model, num_samples=1)\n",
    "prior_predictive_sample = pred()"
   ]
  },
  {
   "attachments": {},
   "cell_type": "markdown",
   "metadata": {},
   "source": [
    "Lets plot behavioural responses"
   ]
  },
  {
   "cell_type": "code",
   "execution_count": 14,
   "metadata": {},
   "outputs": [
    {
     "data": {
      "image/png": "[encoded data removed]",
      "text/plain": [
       "<Figure size 1600x500 with 3 Axes>"
      ]
     },
     "metadata": {},
     "output_type": "display_data"
    }
   ],
   "source": [
    "ucb_agent.set_parameters(prior_predictive_sample[\"z\"][0])\n",
    "\n",
    "fig, axes = plt.subplots(1, 3, figsize=(16, 5))\n",
    "\n",
    "axes[0].hist(ucb_agent.lr, bins=100)\n",
    "axes[1].hist(ucb_agent.c, bins=100)\n",
    "axes[2].hist(ucb_agent.beta, bins=100);"
   ]
  },
  {
   "cell_type": "code",
   "execution_count": 15,
   "metadata": {},
   "outputs": [
    {
     "data": {
      "application/vnd.jupyter.widget-view+json": {
       "model_id": "f2a219440afd4d0d9de8a2b982b765b5",
       "version_major": 2,
       "version_minor": 0
      },
      "text/plain": [
       "  0%|          | 0/5000 [00:00<?, ?it/s]"
      ]
     },
     "metadata": {},
     "output_type": "display_data"
    }
   ],
   "source": [
    "measurments = {\n",
    "    \"offers\": None,\n",
    "    \"outcomes\": prior_predictive_sample[\"outcomes\"][0],\n",
    "    \"mask\": None,\n",
    "    \"responses\": prior_predictive_sample[\"responses\"][0],\n",
    "}\n",
    "\n",
    "num_samples = 1000\n",
    "\n",
    "# perform inference using stochastic variational inference\n",
    "opts_svi = default_dict_pyro_svi\n",
    "opts_svi.update({\"sample_kwargs\": {\"num_samples\": num_samples}, \"iter_steps\": 5_000})\n",
    "\n",
    "samples, svi, results = run_svi(gen_model, posterior, measurments, opts=opts_svi)"
   ]
  },
  {
   "cell_type": "code",
   "execution_count": 16,
   "metadata": {},
   "outputs": [
    {
     "data": {
      "text/plain": [
       "[<matplotlib.lines.Line2D at 0x7f446c72f3d0>]"
      ]
     },
     "execution_count": 16,
     "metadata": {},
     "output_type": "execute_result"
    },
    {
     "data": {
      "image/png": "[encoded data removed]",
      "text/plain": [
       "<Figure size 640x480 with 1 Axes>"
      ]
     },
     "metadata": {},
     "output_type": "display_data"
    }
   ],
   "source": [
    "plt.plot(results[\"loss\"])"
   ]
  }
 ],
 "metadata": {
  "kernelspec": {
   "display_name": "Python 3 (ipykernel)",
   "language": "python",
   "name": "python3"
  },
  "language_info": {
   "codemirror_mode": {
    "name": "ipython",
    "version": 3
   },
   "file_extension": ".py",
   "mimetype": "text/x-python",
   "name": "python",
   "nbconvert_exporter": "python",
   "pygments_lexer": "ipython3",
   "version": "3.10.10"
  }
 },
 "nbformat": 4,
 "nbformat_minor": 2
}
